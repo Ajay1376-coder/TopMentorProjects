{
 "cells": [
  {
   "cell_type": "code",
   "execution_count": 1,
   "metadata": {},
   "outputs": [
    {
     "name": "stdout",
     "output_type": "stream",
     "text": [
      "Hi I am Ajay Singh . I am a Data Science Aspirant\n"
     ]
    }
   ],
   "source": [
    "x= \"Hi I am Ajay Singh . I am a Data Science Aspirant\"\n",
    "print(x)"
   ]
  },
  {
   "cell_type": "code",
   "execution_count": 3,
   "metadata": {},
   "outputs": [
    {
     "name": "stdout",
     "output_type": "stream",
     "text": [
      "Hi I am Ajay Singh . I am a Data Science Aspirant\n",
      "Hi, I am good\n"
     ]
    }
   ],
   "source": [
    "y= \"Hi I am Ajay Singh. How are you?\"\n",
    "print(x)\n",
    "y= \"Hi, I am good\"\n",
    "print(y)"
   ]
  },
  {
   "cell_type": "code",
   "execution_count": 11,
   "metadata": {},
   "outputs": [
    {
     "name": "stdout",
     "output_type": "stream",
     "text": [
      "Hello AJAY SINGH ,wanna play? \n"
     ]
    }
   ],
   "source": [
    "z =\"AJAY SINGH\"\n",
    "print(f\"Hello {z} ,wanna play? \")\n"
   ]
  },
  {
   "cell_type": "code",
   "execution_count": 13,
   "metadata": {},
   "outputs": [
    {
     "name": "stdout",
     "output_type": "stream",
     "text": [
      "Albert Einstein once said,\"If you want to live a happy life, tie it to a goal. Not to people or things.\"\n"
     ]
    }
   ],
   "source": [
    "print('Albert Einstein once said,\"If you want to live a happy life, tie it to a goal. Not to people or things.\"')"
   ]
  },
  {
   "cell_type": "code",
   "execution_count": 21,
   "metadata": {},
   "outputs": [
    {
     "name": "stdout",
     "output_type": "stream",
     "text": [
      "Albert Einstein once said,\"If you want to live a happy life, tie it to a goal. Not to people or things.\"\n"
     ]
    }
   ],
   "source": [
    "#AJAY SINGH (07:35 P.M,17 MAY,2021)Program for printing a famous Quote By a fomous person using formatting.\n",
    "\n",
    "famous_person=\"Albert Einstein\"\n",
    "message='If you want to live a happy life, tie it to a goal. Not to people or things.'\n",
    "print(f'{famous_person} once said,\"{message}\"')"
   ]
  },
  {
   "cell_type": "code",
   "execution_count": 22,
   "metadata": {},
   "outputs": [
    {
     "name": "stdout",
     "output_type": "stream",
     "text": [
      "8\n",
      "8\n",
      "8\n",
      "8\n"
     ]
    }
   ],
   "source": [
    "#AJAY SINGH (07:36 P.M,17 MAY,2021) PROGRAM OF ADDITION,SUBTRACTION,MULTIPLICATION,DIVISION WHICH GIVES FINAL RESULT AS 8.\n",
    "\n",
    "print(2+6)\n",
    "print(10-2)\n",
    "print(2*4)\n",
    "print(int(32/4))"
   ]
  },
  {
   "cell_type": "code",
   "execution_count": 23,
   "metadata": {},
   "outputs": [
    {
     "name": "stdout",
     "output_type": "stream",
     "text": [
      "My favourite number is: 16\n"
     ]
    }
   ],
   "source": [
    "favourite_number=16\n",
    "print(\"My favourite number is:\", favourite_number)"
   ]
  },
  {
   "cell_type": "code",
   "execution_count": 24,
   "metadata": {},
   "outputs": [
    {
     "name": "stdout",
     "output_type": "stream",
     "text": [
      "Prakash\n",
      "Naman\n",
      "Preeti\n",
      "Ayushii\n",
      "Vikas\n",
      "Divyanshu\n",
      "Yogesh\n"
     ]
    }
   ],
   "source": [
    "names=['Prakash','Naman','Preeti','Ayushii','Vikas','Divyanshu','Yogesh']\n",
    "print(names[0])\n",
    "print(names[1])\n",
    "print(names[2])\n",
    "print(names[3])\n",
    "print(names[4])\n",
    "print(names[5])\n",
    "print(names[6])"
   ]
  },
  {
   "cell_type": "code",
   "execution_count": 26,
   "metadata": {},
   "outputs": [
    {
     "name": "stdout",
     "output_type": "stream",
     "text": [
      "How are you? Prakash\n",
      "How are you? Naman\n",
      "How are you? Preeti\n",
      "How are you? Ayushii\n",
      "How are you? Vikas\n",
      "How are you? Divyanshu\n",
      "How are you? Yogesh\n"
     ]
    }
   ],
   "source": [
    "names=['Prakash','Naman','Preeti','Ayushii','Vikas','Divyanshu','Yogesh']\n",
    "message=\"How are you?\"\n",
    "print(message, names[0])\n",
    "print(message, names[1])\n",
    "print(message, names[2])\n",
    "print(message, names[3])\n",
    "print(message, names[4])\n",
    "print(message, names[5])\n",
    "print(message, names[6])"
   ]
  },
  {
   "cell_type": "code",
   "execution_count": 33,
   "metadata": {},
   "outputs": [
    {
     "name": "stdout",
     "output_type": "stream",
     "text": [
      "The most expensive car is Bugatti La Voiture Noire\n",
      "The most elegant car is Pagani Zonda HP Barchetta\n",
      "The most elegant and managed car is Rolls Royce Sweptail\n",
      "The fastest and extraordinary car is Bugatti Centodieci\n",
      "The car with electronically controlled all-wheel drive system is Lamborghini Veneno Roadster\n",
      "The car with 5.9-litre twin-turbo V12 engine is Mercedes-Maybach Exelero\n"
     ]
    }
   ],
   "source": [
    "car=['Bugatti La Voiture Noire','Pagani Zonda HP Barchetta','Rolls Royce Sweptail','Bugatti Centodieci',\n",
    "          'Lamborghini Veneno Roadster','Mercedes-Maybach Exelero']\n",
    "print(\"The most expensive car is\",car[0])\n",
    "print(\"The most elegant car is\",car[1])\n",
    "print(\"The most elegant and managed car is\",car[2])\n",
    "print(\"The fastest and extraordinary car is\",car[3])\n",
    "print(\"The car with electronically controlled all-wheel drive system is\",car[4])\n",
    "print(\"The car with 5.9-litre twin-turbo V12 engine is\",car[5])"
   ]
  },
  {
   "cell_type": "code",
   "execution_count": null,
   "metadata": {},
   "outputs": [],
   "source": []
  }
 ],
 "metadata": {
  "kernelspec": {
   "display_name": "Python 3",
   "language": "python",
   "name": "python3"
  },
  "language_info": {
   "codemirror_mode": {
    "name": "ipython",
    "version": 3
   },
   "file_extension": ".py",
   "mimetype": "text/x-python",
   "name": "python",
   "nbconvert_exporter": "python",
   "pygments_lexer": "ipython3",
   "version": "3.8.3"
  }
 },
 "nbformat": 4,
 "nbformat_minor": 4
}
