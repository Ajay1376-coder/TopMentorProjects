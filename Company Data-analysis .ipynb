{
 "cells": [
  {
   "cell_type": "code",
   "execution_count": 1,
   "metadata": {},
   "outputs": [],
   "source": [
    "#!pip install tabula-py"
   ]
  },
  {
   "cell_type": "code",
   "execution_count": 2,
   "metadata": {},
   "outputs": [],
   "source": [
    "#import tabula"
   ]
  },
  {
   "cell_type": "code",
   "execution_count": 3,
   "metadata": {},
   "outputs": [],
   "source": [
    "# file=\"C:/Users/AJAY SINGH/Downloads/Companies Assignment - Data.pdf\"\n",
    "# df = tabula.read_pdf(file, pages='all')"
   ]
  },
  {
   "cell_type": "code",
   "execution_count": 4,
   "metadata": {},
   "outputs": [],
   "source": [
    "tabula.convert_into(file, \"C:/Users/AJAY SINGH/Downloads/output.csv\", output_format=\"csv\", pages='all')\n"
   ]
  },
  {
   "cell_type": "code",
   "execution_count": 5,
   "metadata": {},
   "outputs": [],
   "source": [
    "import pandas as pd\n",
    "cd=pd.read_csv(\"C:/Users/AJAY SINGH/Downloads/output.csv\")"
   ]
  },
  {
   "cell_type": "code",
   "execution_count": 6,
   "metadata": {},
   "outputs": [
    {
     "data": {
      "text/html": [
       "<div>\n",
       "<style scoped>\n",
       "    .dataframe tbody tr th:only-of-type {\n",
       "        vertical-align: middle;\n",
       "    }\n",
       "\n",
       "    .dataframe tbody tr th {\n",
       "        vertical-align: top;\n",
       "    }\n",
       "\n",
       "    .dataframe thead th {\n",
       "        text-align: right;\n",
       "    }\n",
       "</style>\n",
       "<table border=\"1\" class=\"dataframe\">\n",
       "  <thead>\n",
       "    <tr style=\"text-align: right;\">\n",
       "      <th></th>\n",
       "      <th>Unnamed: 0</th>\n",
       "      <th>Administration</th>\n",
       "      <th>Marketing Spend</th>\n",
       "      <th>State</th>\n",
       "      <th>Profit</th>\n",
       "    </tr>\n",
       "  </thead>\n",
       "  <tbody>\n",
       "    <tr>\n",
       "      <th>0</th>\n",
       "      <td>Spend</td>\n",
       "      <td>NaN</td>\n",
       "      <td>NaN</td>\n",
       "      <td>NaN</td>\n",
       "      <td>NaN</td>\n",
       "    </tr>\n",
       "    <tr>\n",
       "      <th>1</th>\n",
       "      <td>165349.2</td>\n",
       "      <td>136897.80</td>\n",
       "      <td>471784.10</td>\n",
       "      <td>New York</td>\n",
       "      <td>192261.83</td>\n",
       "    </tr>\n",
       "    <tr>\n",
       "      <th>2</th>\n",
       "      <td>162597.7</td>\n",
       "      <td>151377.59</td>\n",
       "      <td>443898.53</td>\n",
       "      <td>California</td>\n",
       "      <td>191792.06</td>\n",
       "    </tr>\n",
       "    <tr>\n",
       "      <th>3</th>\n",
       "      <td>153441.51</td>\n",
       "      <td>101145.55</td>\n",
       "      <td>407934.54</td>\n",
       "      <td>Florida</td>\n",
       "      <td>191050.39</td>\n",
       "    </tr>\n",
       "    <tr>\n",
       "      <th>4</th>\n",
       "      <td>144372.41</td>\n",
       "      <td>118671.85</td>\n",
       "      <td>383199.62</td>\n",
       "      <td>New York</td>\n",
       "      <td>182901.99</td>\n",
       "    </tr>\n",
       "  </tbody>\n",
       "</table>\n",
       "</div>"
      ],
      "text/plain": [
       "  Unnamed: 0  Administration  Marketing Spend       State     Profit\n",
       "0      Spend             NaN              NaN         NaN        NaN\n",
       "1   165349.2       136897.80        471784.10    New York  192261.83\n",
       "2   162597.7       151377.59        443898.53  California  191792.06\n",
       "3  153441.51       101145.55        407934.54     Florida  191050.39\n",
       "4  144372.41       118671.85        383199.62    New York  182901.99"
      ]
     },
     "execution_count": 6,
     "metadata": {},
     "output_type": "execute_result"
    }
   ],
   "source": [
    "cd.head(5)"
   ]
  },
  {
   "cell_type": "code",
   "execution_count": 7,
   "metadata": {},
   "outputs": [],
   "source": [
    "cd['Spend']=cd['Unnamed: 0']"
   ]
  },
  {
   "cell_type": "code",
   "execution_count": 8,
   "metadata": {},
   "outputs": [
    {
     "data": {
      "text/html": [
       "<div>\n",
       "<style scoped>\n",
       "    .dataframe tbody tr th:only-of-type {\n",
       "        vertical-align: middle;\n",
       "    }\n",
       "\n",
       "    .dataframe tbody tr th {\n",
       "        vertical-align: top;\n",
       "    }\n",
       "\n",
       "    .dataframe thead th {\n",
       "        text-align: right;\n",
       "    }\n",
       "</style>\n",
       "<table border=\"1\" class=\"dataframe\">\n",
       "  <thead>\n",
       "    <tr style=\"text-align: right;\">\n",
       "      <th></th>\n",
       "      <th>Administration</th>\n",
       "      <th>Marketing Spend</th>\n",
       "      <th>State</th>\n",
       "      <th>Profit</th>\n",
       "      <th>Spend</th>\n",
       "    </tr>\n",
       "  </thead>\n",
       "  <tbody>\n",
       "    <tr>\n",
       "      <th>0</th>\n",
       "      <td>NaN</td>\n",
       "      <td>NaN</td>\n",
       "      <td>NaN</td>\n",
       "      <td>NaN</td>\n",
       "      <td>Spend</td>\n",
       "    </tr>\n",
       "    <tr>\n",
       "      <th>1</th>\n",
       "      <td>136897.800</td>\n",
       "      <td>471784.1000</td>\n",
       "      <td>New York</td>\n",
       "      <td>192261.83000</td>\n",
       "      <td>165349.2</td>\n",
       "    </tr>\n",
       "    <tr>\n",
       "      <th>2</th>\n",
       "      <td>151377.590</td>\n",
       "      <td>443898.5300</td>\n",
       "      <td>California</td>\n",
       "      <td>191792.06000</td>\n",
       "      <td>162597.7</td>\n",
       "    </tr>\n",
       "    <tr>\n",
       "      <th>3</th>\n",
       "      <td>101145.550</td>\n",
       "      <td>407934.5400</td>\n",
       "      <td>Florida</td>\n",
       "      <td>191050.39000</td>\n",
       "      <td>153441.51</td>\n",
       "    </tr>\n",
       "    <tr>\n",
       "      <th>4</th>\n",
       "      <td>118671.850</td>\n",
       "      <td>383199.6200</td>\n",
       "      <td>New York</td>\n",
       "      <td>182901.99000</td>\n",
       "      <td>144372.41</td>\n",
       "    </tr>\n",
       "    <tr>\n",
       "      <th>...</th>\n",
       "      <td>...</td>\n",
       "      <td>...</td>\n",
       "      <td>...</td>\n",
       "      <td>...</td>\n",
       "      <td>...</td>\n",
       "    </tr>\n",
       "    <tr>\n",
       "      <th>1019</th>\n",
       "      <td>118451.999</td>\n",
       "      <td>173232.6695</td>\n",
       "      <td>California</td>\n",
       "      <td>95279.96251</td>\n",
       "      <td>54135</td>\n",
       "    </tr>\n",
       "    <tr>\n",
       "      <th>1020</th>\n",
       "      <td>130390.080</td>\n",
       "      <td>329204.0228</td>\n",
       "      <td>California</td>\n",
       "      <td>164336.60550</td>\n",
       "      <td>134970</td>\n",
       "    </tr>\n",
       "    <tr>\n",
       "      <th>1021</th>\n",
       "      <td>241926.310</td>\n",
       "      <td>227142.8200</td>\n",
       "      <td>California</td>\n",
       "      <td>413956.48000</td>\n",
       "      <td>100275.47</td>\n",
       "    </tr>\n",
       "    <tr>\n",
       "      <th>1022</th>\n",
       "      <td>321652.140</td>\n",
       "      <td>281692.3200</td>\n",
       "      <td>California</td>\n",
       "      <td>333962.19000</td>\n",
       "      <td>128456.23</td>\n",
       "    </tr>\n",
       "    <tr>\n",
       "      <th>1023</th>\n",
       "      <td>270939.860</td>\n",
       "      <td>295442.1700</td>\n",
       "      <td>New York</td>\n",
       "      <td>476485.43000</td>\n",
       "      <td>161181.72</td>\n",
       "    </tr>\n",
       "  </tbody>\n",
       "</table>\n",
       "<p>1024 rows × 5 columns</p>\n",
       "</div>"
      ],
      "text/plain": [
       "      Administration  Marketing Spend       State        Profit      Spend\n",
       "0                NaN              NaN         NaN           NaN      Spend\n",
       "1         136897.800      471784.1000    New York  192261.83000   165349.2\n",
       "2         151377.590      443898.5300  California  191792.06000   162597.7\n",
       "3         101145.550      407934.5400     Florida  191050.39000  153441.51\n",
       "4         118671.850      383199.6200    New York  182901.99000  144372.41\n",
       "...              ...              ...         ...           ...        ...\n",
       "1019      118451.999      173232.6695  California   95279.96251      54135\n",
       "1020      130390.080      329204.0228  California  164336.60550     134970\n",
       "1021      241926.310      227142.8200  California  413956.48000  100275.47\n",
       "1022      321652.140      281692.3200  California  333962.19000  128456.23\n",
       "1023      270939.860      295442.1700    New York  476485.43000  161181.72\n",
       "\n",
       "[1024 rows x 5 columns]"
      ]
     },
     "execution_count": 8,
     "metadata": {},
     "output_type": "execute_result"
    }
   ],
   "source": [
    "a=cd.drop('Unnamed: 0',axis=1)\n",
    "a"
   ]
  },
  {
   "cell_type": "code",
   "execution_count": 9,
   "metadata": {},
   "outputs": [
    {
     "data": {
      "text/html": [
       "<div>\n",
       "<style scoped>\n",
       "    .dataframe tbody tr th:only-of-type {\n",
       "        vertical-align: middle;\n",
       "    }\n",
       "\n",
       "    .dataframe tbody tr th {\n",
       "        vertical-align: top;\n",
       "    }\n",
       "\n",
       "    .dataframe thead th {\n",
       "        text-align: right;\n",
       "    }\n",
       "</style>\n",
       "<table border=\"1\" class=\"dataframe\">\n",
       "  <thead>\n",
       "    <tr style=\"text-align: right;\">\n",
       "      <th></th>\n",
       "      <th>Administration</th>\n",
       "      <th>Marketing Spend</th>\n",
       "      <th>State</th>\n",
       "      <th>Profit</th>\n",
       "      <th>Spend</th>\n",
       "    </tr>\n",
       "  </thead>\n",
       "  <tbody>\n",
       "    <tr>\n",
       "      <th>1</th>\n",
       "      <td>136897.800</td>\n",
       "      <td>471784.1000</td>\n",
       "      <td>New York</td>\n",
       "      <td>192261.83000</td>\n",
       "      <td>165349.2</td>\n",
       "    </tr>\n",
       "    <tr>\n",
       "      <th>2</th>\n",
       "      <td>151377.590</td>\n",
       "      <td>443898.5300</td>\n",
       "      <td>California</td>\n",
       "      <td>191792.06000</td>\n",
       "      <td>162597.7</td>\n",
       "    </tr>\n",
       "    <tr>\n",
       "      <th>3</th>\n",
       "      <td>101145.550</td>\n",
       "      <td>407934.5400</td>\n",
       "      <td>Florida</td>\n",
       "      <td>191050.39000</td>\n",
       "      <td>153441.51</td>\n",
       "    </tr>\n",
       "    <tr>\n",
       "      <th>4</th>\n",
       "      <td>118671.850</td>\n",
       "      <td>383199.6200</td>\n",
       "      <td>New York</td>\n",
       "      <td>182901.99000</td>\n",
       "      <td>144372.41</td>\n",
       "    </tr>\n",
       "    <tr>\n",
       "      <th>5</th>\n",
       "      <td>91391.770</td>\n",
       "      <td>366168.4200</td>\n",
       "      <td>Florida</td>\n",
       "      <td>166187.94000</td>\n",
       "      <td>142107.34</td>\n",
       "    </tr>\n",
       "    <tr>\n",
       "      <th>...</th>\n",
       "      <td>...</td>\n",
       "      <td>...</td>\n",
       "      <td>...</td>\n",
       "      <td>...</td>\n",
       "      <td>...</td>\n",
       "    </tr>\n",
       "    <tr>\n",
       "      <th>1019</th>\n",
       "      <td>118451.999</td>\n",
       "      <td>173232.6695</td>\n",
       "      <td>California</td>\n",
       "      <td>95279.96251</td>\n",
       "      <td>54135</td>\n",
       "    </tr>\n",
       "    <tr>\n",
       "      <th>1020</th>\n",
       "      <td>130390.080</td>\n",
       "      <td>329204.0228</td>\n",
       "      <td>California</td>\n",
       "      <td>164336.60550</td>\n",
       "      <td>134970</td>\n",
       "    </tr>\n",
       "    <tr>\n",
       "      <th>1021</th>\n",
       "      <td>241926.310</td>\n",
       "      <td>227142.8200</td>\n",
       "      <td>California</td>\n",
       "      <td>413956.48000</td>\n",
       "      <td>100275.47</td>\n",
       "    </tr>\n",
       "    <tr>\n",
       "      <th>1022</th>\n",
       "      <td>321652.140</td>\n",
       "      <td>281692.3200</td>\n",
       "      <td>California</td>\n",
       "      <td>333962.19000</td>\n",
       "      <td>128456.23</td>\n",
       "    </tr>\n",
       "    <tr>\n",
       "      <th>1023</th>\n",
       "      <td>270939.860</td>\n",
       "      <td>295442.1700</td>\n",
       "      <td>New York</td>\n",
       "      <td>476485.43000</td>\n",
       "      <td>161181.72</td>\n",
       "    </tr>\n",
       "  </tbody>\n",
       "</table>\n",
       "<p>1023 rows × 5 columns</p>\n",
       "</div>"
      ],
      "text/plain": [
       "      Administration  Marketing Spend       State        Profit      Spend\n",
       "1         136897.800      471784.1000    New York  192261.83000   165349.2\n",
       "2         151377.590      443898.5300  California  191792.06000   162597.7\n",
       "3         101145.550      407934.5400     Florida  191050.39000  153441.51\n",
       "4         118671.850      383199.6200    New York  182901.99000  144372.41\n",
       "5          91391.770      366168.4200     Florida  166187.94000  142107.34\n",
       "...              ...              ...         ...           ...        ...\n",
       "1019      118451.999      173232.6695  California   95279.96251      54135\n",
       "1020      130390.080      329204.0228  California  164336.60550     134970\n",
       "1021      241926.310      227142.8200  California  413956.48000  100275.47\n",
       "1022      321652.140      281692.3200  California  333962.19000  128456.23\n",
       "1023      270939.860      295442.1700    New York  476485.43000  161181.72\n",
       "\n",
       "[1023 rows x 5 columns]"
      ]
     },
     "execution_count": 9,
     "metadata": {},
     "output_type": "execute_result"
    }
   ],
   "source": [
    "a=a.drop([0],axis=0)\n",
    "a"
   ]
  },
  {
   "cell_type": "code",
   "execution_count": 10,
   "metadata": {},
   "outputs": [
    {
     "data": {
      "text/plain": [
       "Administration     28\n",
       "Marketing Spend    29\n",
       "State              23\n",
       "Profit             23\n",
       "Spend              25\n",
       "dtype: int64"
      ]
     },
     "execution_count": 10,
     "metadata": {},
     "output_type": "execute_result"
    }
   ],
   "source": [
    "a.isnull().sum()\n"
   ]
  },
  {
   "cell_type": "code",
   "execution_count": 11,
   "metadata": {},
   "outputs": [],
   "source": [
    "a=a.fillna(method='ffill')"
   ]
  },
  {
   "cell_type": "code",
   "execution_count": 12,
   "metadata": {},
   "outputs": [
    {
     "data": {
      "text/html": [
       "<div>\n",
       "<style scoped>\n",
       "    .dataframe tbody tr th:only-of-type {\n",
       "        vertical-align: middle;\n",
       "    }\n",
       "\n",
       "    .dataframe tbody tr th {\n",
       "        vertical-align: top;\n",
       "    }\n",
       "\n",
       "    .dataframe thead th {\n",
       "        text-align: right;\n",
       "    }\n",
       "</style>\n",
       "<table border=\"1\" class=\"dataframe\">\n",
       "  <thead>\n",
       "    <tr style=\"text-align: right;\">\n",
       "      <th></th>\n",
       "      <th>Administration</th>\n",
       "      <th>Marketing Spend</th>\n",
       "      <th>State</th>\n",
       "      <th>Profit</th>\n",
       "      <th>Spend</th>\n",
       "    </tr>\n",
       "  </thead>\n",
       "  <tbody>\n",
       "    <tr>\n",
       "      <th>1</th>\n",
       "      <td>136897.800</td>\n",
       "      <td>471784.1000</td>\n",
       "      <td>New York</td>\n",
       "      <td>192261.83000</td>\n",
       "      <td>165349.2</td>\n",
       "    </tr>\n",
       "    <tr>\n",
       "      <th>2</th>\n",
       "      <td>151377.590</td>\n",
       "      <td>443898.5300</td>\n",
       "      <td>California</td>\n",
       "      <td>191792.06000</td>\n",
       "      <td>162597.7</td>\n",
       "    </tr>\n",
       "    <tr>\n",
       "      <th>3</th>\n",
       "      <td>101145.550</td>\n",
       "      <td>407934.5400</td>\n",
       "      <td>Florida</td>\n",
       "      <td>191050.39000</td>\n",
       "      <td>153441.51</td>\n",
       "    </tr>\n",
       "    <tr>\n",
       "      <th>4</th>\n",
       "      <td>118671.850</td>\n",
       "      <td>383199.6200</td>\n",
       "      <td>New York</td>\n",
       "      <td>182901.99000</td>\n",
       "      <td>144372.41</td>\n",
       "    </tr>\n",
       "    <tr>\n",
       "      <th>5</th>\n",
       "      <td>91391.770</td>\n",
       "      <td>366168.4200</td>\n",
       "      <td>Florida</td>\n",
       "      <td>166187.94000</td>\n",
       "      <td>142107.34</td>\n",
       "    </tr>\n",
       "    <tr>\n",
       "      <th>...</th>\n",
       "      <td>...</td>\n",
       "      <td>...</td>\n",
       "      <td>...</td>\n",
       "      <td>...</td>\n",
       "      <td>...</td>\n",
       "    </tr>\n",
       "    <tr>\n",
       "      <th>1019</th>\n",
       "      <td>118451.999</td>\n",
       "      <td>173232.6695</td>\n",
       "      <td>California</td>\n",
       "      <td>95279.96251</td>\n",
       "      <td>54135</td>\n",
       "    </tr>\n",
       "    <tr>\n",
       "      <th>1020</th>\n",
       "      <td>130390.080</td>\n",
       "      <td>329204.0228</td>\n",
       "      <td>California</td>\n",
       "      <td>164336.60550</td>\n",
       "      <td>134970</td>\n",
       "    </tr>\n",
       "    <tr>\n",
       "      <th>1021</th>\n",
       "      <td>241926.310</td>\n",
       "      <td>227142.8200</td>\n",
       "      <td>California</td>\n",
       "      <td>413956.48000</td>\n",
       "      <td>100275.47</td>\n",
       "    </tr>\n",
       "    <tr>\n",
       "      <th>1022</th>\n",
       "      <td>321652.140</td>\n",
       "      <td>281692.3200</td>\n",
       "      <td>California</td>\n",
       "      <td>333962.19000</td>\n",
       "      <td>128456.23</td>\n",
       "    </tr>\n",
       "    <tr>\n",
       "      <th>1023</th>\n",
       "      <td>270939.860</td>\n",
       "      <td>295442.1700</td>\n",
       "      <td>New York</td>\n",
       "      <td>476485.43000</td>\n",
       "      <td>161181.72</td>\n",
       "    </tr>\n",
       "  </tbody>\n",
       "</table>\n",
       "<p>1023 rows × 5 columns</p>\n",
       "</div>"
      ],
      "text/plain": [
       "      Administration  Marketing Spend       State        Profit      Spend\n",
       "1         136897.800      471784.1000    New York  192261.83000   165349.2\n",
       "2         151377.590      443898.5300  California  191792.06000   162597.7\n",
       "3         101145.550      407934.5400     Florida  191050.39000  153441.51\n",
       "4         118671.850      383199.6200    New York  182901.99000  144372.41\n",
       "5          91391.770      366168.4200     Florida  166187.94000  142107.34\n",
       "...              ...              ...         ...           ...        ...\n",
       "1019      118451.999      173232.6695  California   95279.96251      54135\n",
       "1020      130390.080      329204.0228  California  164336.60550     134970\n",
       "1021      241926.310      227142.8200  California  413956.48000  100275.47\n",
       "1022      321652.140      281692.3200  California  333962.19000  128456.23\n",
       "1023      270939.860      295442.1700    New York  476485.43000  161181.72\n",
       "\n",
       "[1023 rows x 5 columns]"
      ]
     },
     "execution_count": 12,
     "metadata": {},
     "output_type": "execute_result"
    }
   ],
   "source": [
    "a"
   ]
  },
  {
   "cell_type": "code",
   "execution_count": 13,
   "metadata": {},
   "outputs": [],
   "source": [
    "#a.isnull().sum()"
   ]
  },
  {
   "cell_type": "code",
   "execution_count": 14,
   "metadata": {},
   "outputs": [
    {
     "data": {
      "text/html": [
       "<div>\n",
       "<style scoped>\n",
       "    .dataframe tbody tr th:only-of-type {\n",
       "        vertical-align: middle;\n",
       "    }\n",
       "\n",
       "    .dataframe tbody tr th {\n",
       "        vertical-align: top;\n",
       "    }\n",
       "\n",
       "    .dataframe thead th {\n",
       "        text-align: right;\n",
       "    }\n",
       "</style>\n",
       "<table border=\"1\" class=\"dataframe\">\n",
       "  <thead>\n",
       "    <tr style=\"text-align: right;\">\n",
       "      <th></th>\n",
       "      <th>Administration</th>\n",
       "      <th>Marketing Spend</th>\n",
       "      <th>State</th>\n",
       "      <th>Profit</th>\n",
       "      <th>Spend</th>\n",
       "    </tr>\n",
       "  </thead>\n",
       "  <tbody>\n",
       "    <tr>\n",
       "      <th>1</th>\n",
       "      <td>136897.80</td>\n",
       "      <td>471784.10</td>\n",
       "      <td>New York</td>\n",
       "      <td>192261.83</td>\n",
       "      <td>165349.2</td>\n",
       "    </tr>\n",
       "    <tr>\n",
       "      <th>2</th>\n",
       "      <td>151377.59</td>\n",
       "      <td>443898.53</td>\n",
       "      <td>California</td>\n",
       "      <td>191792.06</td>\n",
       "      <td>162597.7</td>\n",
       "    </tr>\n",
       "    <tr>\n",
       "      <th>3</th>\n",
       "      <td>101145.55</td>\n",
       "      <td>407934.54</td>\n",
       "      <td>Florida</td>\n",
       "      <td>191050.39</td>\n",
       "      <td>153441.51</td>\n",
       "    </tr>\n",
       "    <tr>\n",
       "      <th>4</th>\n",
       "      <td>118671.85</td>\n",
       "      <td>383199.62</td>\n",
       "      <td>New York</td>\n",
       "      <td>182901.99</td>\n",
       "      <td>144372.41</td>\n",
       "    </tr>\n",
       "    <tr>\n",
       "      <th>5</th>\n",
       "      <td>91391.77</td>\n",
       "      <td>366168.42</td>\n",
       "      <td>Florida</td>\n",
       "      <td>166187.94</td>\n",
       "      <td>142107.34</td>\n",
       "    </tr>\n",
       "    <tr>\n",
       "      <th>6</th>\n",
       "      <td>99814.71</td>\n",
       "      <td>362861.36</td>\n",
       "      <td>New York</td>\n",
       "      <td>156991.12</td>\n",
       "      <td>131876.9</td>\n",
       "    </tr>\n",
       "    <tr>\n",
       "      <th>7</th>\n",
       "      <td>147198.87</td>\n",
       "      <td>127716.82</td>\n",
       "      <td>California</td>\n",
       "      <td>156122.51</td>\n",
       "      <td>134615.46</td>\n",
       "    </tr>\n",
       "    <tr>\n",
       "      <th>8</th>\n",
       "      <td>145530.06</td>\n",
       "      <td>323876.68</td>\n",
       "      <td>Florida</td>\n",
       "      <td>155752.60</td>\n",
       "      <td>130298.13</td>\n",
       "    </tr>\n",
       "    <tr>\n",
       "      <th>9</th>\n",
       "      <td>148718.95</td>\n",
       "      <td>311613.29</td>\n",
       "      <td>New York</td>\n",
       "      <td>152211.77</td>\n",
       "      <td>120542.52</td>\n",
       "    </tr>\n",
       "    <tr>\n",
       "      <th>10</th>\n",
       "      <td>108679.17</td>\n",
       "      <td>304981.62</td>\n",
       "      <td>California</td>\n",
       "      <td>149759.96</td>\n",
       "      <td>123334.88</td>\n",
       "    </tr>\n",
       "  </tbody>\n",
       "</table>\n",
       "</div>"
      ],
      "text/plain": [
       "    Administration  Marketing Spend       State     Profit      Spend\n",
       "1        136897.80        471784.10    New York  192261.83   165349.2\n",
       "2        151377.59        443898.53  California  191792.06   162597.7\n",
       "3        101145.55        407934.54     Florida  191050.39  153441.51\n",
       "4        118671.85        383199.62    New York  182901.99  144372.41\n",
       "5         91391.77        366168.42     Florida  166187.94  142107.34\n",
       "6         99814.71        362861.36    New York  156991.12   131876.9\n",
       "7        147198.87        127716.82  California  156122.51  134615.46\n",
       "8        145530.06        323876.68     Florida  155752.60  130298.13\n",
       "9        148718.95        311613.29    New York  152211.77  120542.52\n",
       "10       108679.17        304981.62  California  149759.96  123334.88"
      ]
     },
     "execution_count": 14,
     "metadata": {},
     "output_type": "execute_result"
    }
   ],
   "source": [
    "a.head(10)"
   ]
  },
  {
   "cell_type": "code",
   "execution_count": 15,
   "metadata": {},
   "outputs": [],
   "source": [
    "a.info()"
   ]
  },
  {
   "cell_type": "code",
   "execution_count": 16,
   "metadata": {},
   "outputs": [],
   "source": [
    "a.describe()"
   ]
  },
  {
   "cell_type": "code",
   "execution_count": 17,
   "metadata": {},
   "outputs": [],
   "source": [
    "import seaborn as sns"
   ]
  },
  {
   "cell_type": "code",
   "execution_count": 18,
   "metadata": {},
   "outputs": [],
   "source": [
    "sns.set_style('dark')"
   ]
  },
  {
   "cell_type": "code",
   "execution_count": 19,
   "metadata": {},
   "outputs": [],
   "source": [
    "sns.palplot(sns.color_palette(\"summer\"))"
   ]
  },
  {
   "cell_type": "code",
   "execution_count": 20,
   "metadata": {},
   "outputs": [],
   "source": [
    "a.columns"
   ]
  },
  {
   "cell_type": "code",
   "execution_count": 21,
   "metadata": {},
   "outputs": [
    {
     "data": {
      "text/plain": [
       "<matplotlib.axes._subplots.AxesSubplot at 0x21108286490>"
      ]
     },
     "execution_count": 21,
     "metadata": {},
     "output_type": "execute_result"
    },
    {
     "data": {
      "image/png": "[encoded data removed]",
      "text/plain": [
       "<Figure size 432x288 with 1 Axes>"
      ]
     },
     "metadata": {},
     "output_type": "display_data"
    }
   ],
   "source": [
    "sns.barplot(data=a,x='State',y='Profit')"
   ]
  },
  {
   "cell_type": "code",
   "execution_count": 22,
   "metadata": {
    "collapsed": true
   },
   "outputs": [
    {
     "data": {
      "text/plain": [
       "<matplotlib.axes._subplots.AxesSubplot at 0x211089cc790>"
      ]
     },
     "execution_count": 22,
     "metadata": {},
     "output_type": "execute_result"
    },
    {
     "data": {
      "image/png": "[encoded data removed]",
      "text/plain": [
       "<Figure size 432x288 with 1 Axes>"
      ]
     },
     "metadata": {},
     "output_type": "display_data"
    }
   ],
   "source": [
    "sns.distplot(a['Marketing Spend'])"
   ]
  },
  {
   "cell_type": "code",
   "execution_count": 23,
   "metadata": {
    "collapsed": true
   },
   "outputs": [
    {
     "data": {
      "text/plain": [
       "<matplotlib.axes._subplots.AxesSubplot at 0x211089ff880>"
      ]
     },
     "execution_count": 23,
     "metadata": {},
     "output_type": "execute_result"
    },
    {
     "data": {
      "image/png": "[encoded data removed]",
      "text/plain": [
       "<Figure size 432x288 with 1 Axes>"
      ]
     },
     "metadata": {},
     "output_type": "display_data"
    }
   ],
   "source": [
    "sns.distplot(a['Spend'])"
   ]
  },
  {
   "cell_type": "code",
   "execution_count": 24,
   "metadata": {
    "collapsed": true
   },
   "outputs": [
    {
     "data": {
      "text/plain": [
       "<seaborn.axisgrid.PairGrid at 0x21108a44d00>"
      ]
     },
     "execution_count": 24,
     "metadata": {},
     "output_type": "execute_result"
    },
    {
     "data": {
      "image/png": "[encoded data removed]",
      "text/plain": [
       "<Figure size 720x720 with 20 Axes>"
      ]
     },
     "metadata": {},
     "output_type": "display_data"
    }
   ],
   "source": [
    "sns.pairplot(data=a)"
   ]
  },
  {
   "cell_type": "code",
   "execution_count": 25,
   "metadata": {},
   "outputs": [],
   "source": [
    "from sklearn.linear_model import LinearRegression\n",
    "from sklearn.model_selection import train_test_split\n"
   ]
  },
  {
   "cell_type": "code",
   "execution_count": 26,
   "metadata": {},
   "outputs": [
    {
     "data": {
      "text/html": [
       "<div>\n",
       "<style scoped>\n",
       "    .dataframe tbody tr th:only-of-type {\n",
       "        vertical-align: middle;\n",
       "    }\n",
       "\n",
       "    .dataframe tbody tr th {\n",
       "        vertical-align: top;\n",
       "    }\n",
       "\n",
       "    .dataframe thead th {\n",
       "        text-align: right;\n",
       "    }\n",
       "</style>\n",
       "<table border=\"1\" class=\"dataframe\">\n",
       "  <thead>\n",
       "    <tr style=\"text-align: right;\">\n",
       "      <th></th>\n",
       "      <th>California</th>\n",
       "      <th>Florida</th>\n",
       "      <th>New York</th>\n",
       "    </tr>\n",
       "  </thead>\n",
       "  <tbody>\n",
       "    <tr>\n",
       "      <th>1</th>\n",
       "      <td>0</td>\n",
       "      <td>0</td>\n",
       "      <td>1</td>\n",
       "    </tr>\n",
       "    <tr>\n",
       "      <th>2</th>\n",
       "      <td>1</td>\n",
       "      <td>0</td>\n",
       "      <td>0</td>\n",
       "    </tr>\n",
       "    <tr>\n",
       "      <th>3</th>\n",
       "      <td>0</td>\n",
       "      <td>1</td>\n",
       "      <td>0</td>\n",
       "    </tr>\n",
       "    <tr>\n",
       "      <th>4</th>\n",
       "      <td>0</td>\n",
       "      <td>0</td>\n",
       "      <td>1</td>\n",
       "    </tr>\n",
       "    <tr>\n",
       "      <th>5</th>\n",
       "      <td>0</td>\n",
       "      <td>1</td>\n",
       "      <td>0</td>\n",
       "    </tr>\n",
       "    <tr>\n",
       "      <th>...</th>\n",
       "      <td>...</td>\n",
       "      <td>...</td>\n",
       "      <td>...</td>\n",
       "    </tr>\n",
       "    <tr>\n",
       "      <th>1019</th>\n",
       "      <td>1</td>\n",
       "      <td>0</td>\n",
       "      <td>0</td>\n",
       "    </tr>\n",
       "    <tr>\n",
       "      <th>1020</th>\n",
       "      <td>1</td>\n",
       "      <td>0</td>\n",
       "      <td>0</td>\n",
       "    </tr>\n",
       "    <tr>\n",
       "      <th>1021</th>\n",
       "      <td>1</td>\n",
       "      <td>0</td>\n",
       "      <td>0</td>\n",
       "    </tr>\n",
       "    <tr>\n",
       "      <th>1022</th>\n",
       "      <td>1</td>\n",
       "      <td>0</td>\n",
       "      <td>0</td>\n",
       "    </tr>\n",
       "    <tr>\n",
       "      <th>1023</th>\n",
       "      <td>0</td>\n",
       "      <td>0</td>\n",
       "      <td>1</td>\n",
       "    </tr>\n",
       "  </tbody>\n",
       "</table>\n",
       "<p>1023 rows × 3 columns</p>\n",
       "</div>"
      ],
      "text/plain": [
       "      California  Florida  New York\n",
       "1              0        0         1\n",
       "2              1        0         0\n",
       "3              0        1         0\n",
       "4              0        0         1\n",
       "5              0        1         0\n",
       "...          ...      ...       ...\n",
       "1019           1        0         0\n",
       "1020           1        0         0\n",
       "1021           1        0         0\n",
       "1022           1        0         0\n",
       "1023           0        0         1\n",
       "\n",
       "[1023 rows x 3 columns]"
      ]
     },
     "execution_count": 26,
     "metadata": {},
     "output_type": "execute_result"
    }
   ],
   "source": [
    "b=pd.get_dummies(a['State'])\n",
    "b"
   ]
  },
  {
   "cell_type": "code",
   "execution_count": 30,
   "metadata": {},
   "outputs": [
    {
     "data": {
      "text/html": [
       "<div>\n",
       "<style scoped>\n",
       "    .dataframe tbody tr th:only-of-type {\n",
       "        vertical-align: middle;\n",
       "    }\n",
       "\n",
       "    .dataframe tbody tr th {\n",
       "        vertical-align: top;\n",
       "    }\n",
       "\n",
       "    .dataframe thead th {\n",
       "        text-align: right;\n",
       "    }\n",
       "</style>\n",
       "<table border=\"1\" class=\"dataframe\">\n",
       "  <thead>\n",
       "    <tr style=\"text-align: right;\">\n",
       "      <th></th>\n",
       "      <th>Administration</th>\n",
       "      <th>Marketing Spend</th>\n",
       "      <th>Profit</th>\n",
       "      <th>Spend</th>\n",
       "      <th>California</th>\n",
       "      <th>Florida</th>\n",
       "      <th>New York</th>\n",
       "    </tr>\n",
       "  </thead>\n",
       "  <tbody>\n",
       "    <tr>\n",
       "      <th>1</th>\n",
       "      <td>136897.800</td>\n",
       "      <td>471784.1000</td>\n",
       "      <td>192261.83000</td>\n",
       "      <td>165349.2</td>\n",
       "      <td>0</td>\n",
       "      <td>0</td>\n",
       "      <td>1</td>\n",
       "    </tr>\n",
       "    <tr>\n",
       "      <th>2</th>\n",
       "      <td>151377.590</td>\n",
       "      <td>443898.5300</td>\n",
       "      <td>191792.06000</td>\n",
       "      <td>162597.7</td>\n",
       "      <td>1</td>\n",
       "      <td>0</td>\n",
       "      <td>0</td>\n",
       "    </tr>\n",
       "    <tr>\n",
       "      <th>3</th>\n",
       "      <td>101145.550</td>\n",
       "      <td>407934.5400</td>\n",
       "      <td>191050.39000</td>\n",
       "      <td>153441.51</td>\n",
       "      <td>0</td>\n",
       "      <td>1</td>\n",
       "      <td>0</td>\n",
       "    </tr>\n",
       "    <tr>\n",
       "      <th>4</th>\n",
       "      <td>118671.850</td>\n",
       "      <td>383199.6200</td>\n",
       "      <td>182901.99000</td>\n",
       "      <td>144372.41</td>\n",
       "      <td>0</td>\n",
       "      <td>0</td>\n",
       "      <td>1</td>\n",
       "    </tr>\n",
       "    <tr>\n",
       "      <th>5</th>\n",
       "      <td>91391.770</td>\n",
       "      <td>366168.4200</td>\n",
       "      <td>166187.94000</td>\n",
       "      <td>142107.34</td>\n",
       "      <td>0</td>\n",
       "      <td>1</td>\n",
       "      <td>0</td>\n",
       "    </tr>\n",
       "    <tr>\n",
       "      <th>...</th>\n",
       "      <td>...</td>\n",
       "      <td>...</td>\n",
       "      <td>...</td>\n",
       "      <td>...</td>\n",
       "      <td>...</td>\n",
       "      <td>...</td>\n",
       "      <td>...</td>\n",
       "    </tr>\n",
       "    <tr>\n",
       "      <th>1019</th>\n",
       "      <td>118451.999</td>\n",
       "      <td>173232.6695</td>\n",
       "      <td>95279.96251</td>\n",
       "      <td>54135</td>\n",
       "      <td>1</td>\n",
       "      <td>0</td>\n",
       "      <td>0</td>\n",
       "    </tr>\n",
       "    <tr>\n",
       "      <th>1020</th>\n",
       "      <td>130390.080</td>\n",
       "      <td>329204.0228</td>\n",
       "      <td>164336.60550</td>\n",
       "      <td>134970</td>\n",
       "      <td>1</td>\n",
       "      <td>0</td>\n",
       "      <td>0</td>\n",
       "    </tr>\n",
       "    <tr>\n",
       "      <th>1021</th>\n",
       "      <td>241926.310</td>\n",
       "      <td>227142.8200</td>\n",
       "      <td>413956.48000</td>\n",
       "      <td>100275.47</td>\n",
       "      <td>1</td>\n",
       "      <td>0</td>\n",
       "      <td>0</td>\n",
       "    </tr>\n",
       "    <tr>\n",
       "      <th>1022</th>\n",
       "      <td>321652.140</td>\n",
       "      <td>281692.3200</td>\n",
       "      <td>333962.19000</td>\n",
       "      <td>128456.23</td>\n",
       "      <td>1</td>\n",
       "      <td>0</td>\n",
       "      <td>0</td>\n",
       "    </tr>\n",
       "    <tr>\n",
       "      <th>1023</th>\n",
       "      <td>270939.860</td>\n",
       "      <td>295442.1700</td>\n",
       "      <td>476485.43000</td>\n",
       "      <td>161181.72</td>\n",
       "      <td>0</td>\n",
       "      <td>0</td>\n",
       "      <td>1</td>\n",
       "    </tr>\n",
       "  </tbody>\n",
       "</table>\n",
       "<p>1023 rows × 7 columns</p>\n",
       "</div>"
      ],
      "text/plain": [
       "      Administration  Marketing Spend        Profit      Spend  California  \\\n",
       "1         136897.800      471784.1000  192261.83000   165349.2           0   \n",
       "2         151377.590      443898.5300  191792.06000   162597.7           1   \n",
       "3         101145.550      407934.5400  191050.39000  153441.51           0   \n",
       "4         118671.850      383199.6200  182901.99000  144372.41           0   \n",
       "5          91391.770      366168.4200  166187.94000  142107.34           0   \n",
       "...              ...              ...           ...        ...         ...   \n",
       "1019      118451.999      173232.6695   95279.96251      54135           1   \n",
       "1020      130390.080      329204.0228  164336.60550     134970           1   \n",
       "1021      241926.310      227142.8200  413956.48000  100275.47           1   \n",
       "1022      321652.140      281692.3200  333962.19000  128456.23           1   \n",
       "1023      270939.860      295442.1700  476485.43000  161181.72           0   \n",
       "\n",
       "      Florida  New York  \n",
       "1           0         1  \n",
       "2           0         0  \n",
       "3           1         0  \n",
       "4           0         1  \n",
       "5           1         0  \n",
       "...       ...       ...  \n",
       "1019        0         0  \n",
       "1020        0         0  \n",
       "1021        0         0  \n",
       "1022        0         0  \n",
       "1023        0         1  \n",
       "\n",
       "[1023 rows x 7 columns]"
      ]
     },
     "execution_count": 30,
     "metadata": {},
     "output_type": "execute_result"
    }
   ],
   "source": [
    " c=pd.concat([a,b],axis=1)\n",
    "c=c.drop(['State'],axis=1)\n",
    "c"
   ]
  },
  {
   "cell_type": "code",
   "execution_count": 129,
   "metadata": {},
   "outputs": [],
   "source": [
    "\n",
    "X=c[['Spend','Marketing Spend','California','Administration','Florida','New York']]\n",
    "y=c['Profit']"
   ]
  },
  {
   "cell_type": "code",
   "execution_count": 139,
   "metadata": {},
   "outputs": [],
   "source": [
    "X_train, X_test, y_train, y_test = train_test_split(X, y, test_size=0.3,random_state=23)"
   ]
  },
  {
   "cell_type": "code",
   "execution_count": 140,
   "metadata": {},
   "outputs": [
    {
     "data": {
      "text/plain": [
       "((716, 6), (307, 6))"
      ]
     },
     "execution_count": 140,
     "metadata": {},
     "output_type": "execute_result"
    }
   ],
   "source": [
    "X_train.shape,X_test.shape"
   ]
  },
  {
   "cell_type": "code",
   "execution_count": 141,
   "metadata": {},
   "outputs": [],
   "source": [
    "model=LinearRegression()"
   ]
  },
  {
   "cell_type": "code",
   "execution_count": 142,
   "metadata": {},
   "outputs": [
    {
     "data": {
      "text/plain": [
       "LinearRegression()"
      ]
     },
     "execution_count": 142,
     "metadata": {},
     "output_type": "execute_result"
    }
   ],
   "source": [
    "model.fit(X_train,y_train)"
   ]
  },
  {
   "cell_type": "code",
   "execution_count": 143,
   "metadata": {},
   "outputs": [],
   "source": [
    "y_pred=model.predict(X_test)"
   ]
  },
  {
   "cell_type": "code",
   "execution_count": 144,
   "metadata": {
    "collapsed": true
   },
   "outputs": [
    {
     "data": {
      "text/plain": [
       "array([120734.9471608 , 135905.78891147,  54689.13834782,  80085.86061055,\n",
       "       130133.23783509, 101732.14995015, 142979.90595595,  50976.92554919,\n",
       "       106073.9243441 , 115806.97985484, 109423.15374491, 168369.86240804,\n",
       "       123826.9384553 ,  93414.90412665, 151471.16740596, 121003.43845312,\n",
       "        59369.50360312,  88368.69877522, 119652.60521058, 136570.82929928,\n",
       "        63499.42231541,  95418.68949625, 160163.59340652,  81964.27804854,\n",
       "       103104.08171057, 156631.58516368, 173779.43008773, 176712.373607  ,\n",
       "        58761.95694288, 141784.74620049, 153246.61076076,  70327.35762187,\n",
       "       178558.47872885,  86234.56269944, 129035.50986195,  74502.39130149,\n",
       "       152143.73408797, 104693.51062764, 131508.79896291, 157264.87528455,\n",
       "        91018.3662913 , 139109.79976794,  59548.85002832, 174111.52120723,\n",
       "        57351.21312447, 181863.74738227, 155364.44275925,  86808.6426782 ,\n",
       "       117102.73607614, 165130.37277161,  83478.09509691, 171120.12638997,\n",
       "        79622.57683624, 111666.56681776, 109323.65972309, 127580.90281941,\n",
       "       138962.40042396, 149964.3144777 , 134888.62454129, 124725.1897716 ,\n",
       "       130382.09178233,  66975.84990841, 174673.58765952, 101802.51560619,\n",
       "        69248.70493321,  53194.29907662,  76458.70055345, 133529.36776333,\n",
       "        60225.04593576, 155780.62934748, 179674.03038411, 183817.57988266,\n",
       "        86380.14648667,  80336.52985338,  77179.51853369, 151954.94842026,\n",
       "       174848.54424402, 140884.2858397 , 164933.86400339, 122371.57242097,\n",
       "       104296.76471445,  56892.68279317,  64433.05327744,  91672.25130146,\n",
       "        52243.70257673,  78521.51382642, 140332.04564661, 105685.29678805,\n",
       "       101175.23218611, 131332.88509536,  68055.06464628,  74978.64602159,\n",
       "       113010.08156763, 165329.55510913, 109584.77578472,  79543.53078524,\n",
       "       130745.73638524,  87627.84807978, 142684.71380304, 121153.70816131,\n",
       "       149432.84420299,  77020.10567464, 164921.94963394,  59065.53339912,\n",
       "       160207.65343581,  82512.91052658, 110155.42333868, 103615.7160764 ,\n",
       "       172647.77101383, 132535.76781506, 119186.24338402, 103177.02165399,\n",
       "        88578.74067471, 176880.0024725 , 168987.70645276, 131109.57793074,\n",
       "       173779.43008773, 111957.46841984, 163494.80231891,  75891.00242926,\n",
       "        88743.69583464, 145775.84694872,  52863.82493866, 160735.0990979 ,\n",
       "        98903.50138461, 176855.9751584 , 138303.17006691,  75132.24899756,\n",
       "        82651.92542754,  98129.77618755,  85698.04289349,  74307.4020018 ,\n",
       "       102671.59093155, 170394.3565278 ,  68426.72843793,  85624.24482404,\n",
       "        90014.27065249, 125901.66771893,  75601.43649853, 178114.83241311,\n",
       "        78677.69107837, 155066.38024213, 120516.88634512, 173183.03894484,\n",
       "       117373.04277754,  99238.26607339, 120385.69369031, 109841.05659659,\n",
       "        53289.74685306,  69334.81261734, 150842.16783592,  72950.6203428 ,\n",
       "       127090.91816172, 178726.37354394, 121506.39404521, 139651.27131955,\n",
       "       179798.16126951, 153272.3543497 ,  57721.06149336, 152834.41878281,\n",
       "       132182.12450044, 159694.30279514, 144302.46057364, 174580.91110051,\n",
       "       150538.19777503, 130793.12967093,  88896.14458497, 168872.53583031,\n",
       "        91415.01304748, 101899.28590972,  51887.584276  , 171550.23969932,\n",
       "       118219.80719992,  64944.49082556, 139513.01541038, 145777.56322356,\n",
       "       163145.54884842, 135648.35386256, 182932.00340114, 150983.46107232,\n",
       "        10727.84579782,  61139.60146792, 185729.75982577, 170404.6539043 ,\n",
       "       121497.81294355,  95509.6499167 , 137878.76254118,  64967.66000223,\n",
       "        82910.78066307, 129694.54342408, 185514.93461718, 165195.88569134,\n",
       "       111782.41254205,  60655.82044792,  76589.03507084, 153049.9053225 ,\n",
       "        61542.25505888,  56711.91618476,  93687.30603446, 115642.22148983,\n",
       "       164537.51332404, 163886.96171794, 141473.24983401,  71025.96385616,\n",
       "       117643.15268402,   3272.42662431, 100477.38657624, 147173.42301617,\n",
       "        74402.55382744, 146002.19292551, 144301.4056299 , 146212.62828997,\n",
       "       150180.55986152, 125367.45939102, 177735.54480286, 165640.95218231,\n",
       "        99130.34025593,  98947.36447131, 179666.86945768, 184234.92054886,\n",
       "       147853.34743092, 149934.0836679 , 417779.0445474 , 115095.61445092,\n",
       "       167612.14546122, 111500.09217791,  95145.24633339,  81551.52388511,\n",
       "        93658.13003212,  69045.33132677,  65394.90294738, 183150.82320861,\n",
       "        89983.4776686 , 107666.02681906, 126856.94837771,  50313.50214862,\n",
       "       105644.00797734, 125850.93966913, 165839.47318872, 120802.73841597,\n",
       "       173477.56976665, 122349.92272422, 158388.24919734, 159382.67183406,\n",
       "        95121.21901929, 176510.7162868 , 159431.71905799,  72680.3136414 ,\n",
       "       170742.75186087, 124579.64207538, 134976.90006884,  60571.72499513,\n",
       "       137758.26595422, 137930.74741974,  77446.39283307,  87948.02484123,\n",
       "       146654.55845575,  83748.30251641, 106182.14626117, 110387.67698413,\n",
       "       139799.06427615,  98236.18253647,  87628.7062172 , 160424.75682077,\n",
       "       143185.19264354,  59929.85377829,  80422.24229227, 156974.26977069,\n",
       "        73378.06159059, 139019.03615381,  93717.04407462,  76736.63108486,\n",
       "       219136.51189924,  54506.26035788, 159958.50352524,  70868.26712428,\n",
       "       174666.72269643,  92794.5686379 ,  81240.02751862,  55778.96263193,\n",
       "       129591.47019527,  58400.49300903,  52477.67249817, 133686.50230972,\n",
       "        95075.54200846, 165786.83205776, 140075.37781462, 121944.8916613 ,\n",
       "       123251.80340792, 141238.98409805, 177127.99814604,  95436.8091303 ,\n",
       "       146637.95815396, 158978.83030947,  82977.71376942, 108412.29230001,\n",
       "       171632.61888183, 181931.43934414,  50359.84049513, 157864.69884085,\n",
       "        71714.07412734, 174361.42996193,  69204.37894293, 116821.27371314,\n",
       "        78214.30814704, 183748.93049007, 117889.6290253 ])"
      ]
     },
     "execution_count": 144,
     "metadata": {},
     "output_type": "execute_result"
    }
   ],
   "source": [
    "y_pred"
   ]
  },
  {
   "cell_type": "code",
   "execution_count": 145,
   "metadata": {},
   "outputs": [],
   "source": [
    "from sklearn.metrics import mean_absolute_error,mean_squared_error,r2_score"
   ]
  },
  {
   "cell_type": "code",
   "execution_count": 146,
   "metadata": {},
   "outputs": [
    {
     "data": {
      "text/plain": [
       "0.9359261429983156"
      ]
     },
     "execution_count": 146,
     "metadata": {},
     "output_type": "execute_result"
    }
   ],
   "source": [
    "accuracy=r2_score(y_test,y_pred)\n",
    "accuracy"
   ]
  },
  {
   "cell_type": "code",
   "execution_count": 147,
   "metadata": {},
   "outputs": [
    {
     "name": "stdout",
     "output_type": "stream",
     "text": [
      "The accuracy of the model is, 0.94\n"
     ]
    }
   ],
   "source": [
    "print(f\"The accuracy of the model is, {round(accuracy,2)}\")"
   ]
  },
  {
   "cell_type": "code",
   "execution_count": 149,
   "metadata": {},
   "outputs": [],
   "source": [
    "#----------------------------------------------------------------------------------------------------------------"
   ]
  }
 ],
 "metadata": {
  "kernelspec": {
   "display_name": "Python 3",
   "language": "python",
   "name": "python3"
  },
  "language_info": {
   "codemirror_mode": {
    "name": "ipython",
    "version": 3
   },
   "file_extension": ".py",
   "mimetype": "text/x-python",
   "name": "python",
   "nbconvert_exporter": "python",
   "pygments_lexer": "ipython3",
   "version": "3.8.3"
  }
 },
 "nbformat": 4,
 "nbformat_minor": 4
}
